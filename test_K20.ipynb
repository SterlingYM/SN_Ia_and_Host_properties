{
 "cells": [
  {
   "cell_type": "code",
   "execution_count": 1,
   "metadata": {},
   "outputs": [],
   "source": [
    "import numpy as np\n",
    "import pandas as pd\n",
    "from astropy.io import ascii\n",
    "from scipy import stats\n",
    "from scipy.optimize import minimize,curve_fit\n",
    "from scipy.stats import gaussian_kde as kde\n",
    "np.random.seed(9620)\n",
    "\n",
    "import matplotlib as mpl\n",
    "import matplotlib.pyplot as plt\n",
    "import matplotlib.gridspec as gridspec\n",
    "import seaborn as sns\n",
    "sns.set(style='ticks', context='talk')\n",
    "plt.style.use(\"../paper.mplstyle\")\n",
    "\n",
    "from multiprocessing import Pool\n",
    "from tqdm import tqdm\n",
    "\n",
    "from astropy.cosmology import FlatLambdaCDM\n",
    "from astropy.coordinates import SkyCoord, Galactic\n",
    "from astropy import units as u\n",
    "\n",
    "from warnings import filterwarnings\n",
    "filterwarnings(action='ignore')"
   ]
  },
  {
   "cell_type": "markdown",
   "metadata": {},
   "source": [
    "# (0) import data & prepare functions"
   ]
  },
  {
   "cell_type": "code",
   "execution_count": 2,
   "metadata": {},
   "outputs": [],
   "source": [
    "# import Galaxy data\n",
    "df_SDSS = pd.read_csv('data/DR8_GZoo+Granada+Portsmouth_cut.csv').set_index('specobjid')\n",
    "df_MANGA = pd.read_csv('data/MaNGA_combined_v01.csv').set_index('mangaid')\n",
    "df_CALIFA = pd.read_csv('data/CALIFA_ttype.csv').set_index('califa_id')"
   ]
  },
  {
   "cell_type": "code",
   "execution_count": 3,
   "metadata": {},
   "outputs": [],
   "source": [
    "# import SN data\n",
    "data2 = pd.read_csv('data/A2_rev1.csv').set_index('ID')"
   ]
  },
  {
   "cell_type": "code",
   "execution_count": 4,
   "metadata": {
    "code_folding": [
     0
    ]
   },
   "outputs": [],
   "source": [
    "def get_dist(df,type_range=(),attr='AGE_granada',ttype_attr='gz_ttype',\n",
    "             gaussian_error=None,slope=None,Nsample=100000,isCALIFA=False):\n",
    "    '''\n",
    "    returns a calculated y-values of the kde curve\n",
    "    inputs:\n",
    "        type_range: a touple of lower and upper bounds in the types, inclusive\n",
    "        \n",
    "    # note: for gaussian error to work, you need the 'slope' value.\n",
    "    '''\n",
    "    \n",
    "    # select binning (e.g. 'early-type')\n",
    "    idx_lower = np.where(np.asarray(types)==type_range[0])[0][0]\n",
    "    idx_upper = np.where(np.asarray(types)==type_range[1])[0][0]\n",
    "    indices = np.arange(idx_lower,idx_upper+1)\n",
    "\n",
    "    # create weighted disribution\n",
    "    Ntotal = 0\n",
    "    y_th = np.zeros(len(x_th))\n",
    "    for i in indices:\n",
    "        if isCALIFA:\n",
    "            cut = df[ttype_attr]==CALIFA_ttypes[i]\n",
    "            if cut.sum()==0:\n",
    "                print('error: cannot find ttypes in CALIFA')\n",
    "                return 1\n",
    "        else:\n",
    "            T_lower = T_center[i]-T_ranges[i]\n",
    "            T_upper = T_center[i]+T_ranges[i]\n",
    "            cut = (df[ttype_attr]>T_lower) & (df[ttype_attr]<T_upper)\n",
    "        Ntotal += N_types_A2[i]\n",
    "        cut = cut & df[attr].notna()\n",
    "        try:\n",
    "            y_th += N_types_A2[i] * kde(df[cut][attr].values)(x_th)\n",
    "        except:\n",
    "            continue\n",
    "            \n",
    "    # normalize\n",
    "    y_th /= y_th.max()\n",
    "    \n",
    "    # gaussian error\n",
    "    if gaussian_error == None:\n",
    "        return y_th\n",
    "    else:\n",
    "        if slope == None:\n",
    "            print('error: slope needs to be given')\n",
    "            return 1\n",
    "        HR = slope*x_th\n",
    "        samples   = np.random.choice(HR,Nsample,p=y_th/(y_th.sum()))\n",
    "        samples_b = [np.random.normal(x,gaussian_error) for x in samples]\n",
    "        y_th_b = kde(samples_b)(HR)\n",
    "        y_th_b = y_th_b / y_th_b.max()\n",
    "        mean = np.mean(samples_b)\n",
    "        return y_th, y_th_b, mean        "
   ]
  },
  {
   "cell_type": "code",
   "execution_count": 5,
   "metadata": {
    "code_folding": [
     0
    ]
   },
   "outputs": [],
   "source": [
    "def project_slope(df,slope,slope_err,\n",
    "                  early_range,late_range,attr,ttype_attr,Nsample=100000,scatter_size=None,isCALIFA=False):\n",
    "    '''\n",
    "    projects the galaxy property distribution with specific t-type ranges onto HR space,\n",
    "    using a SN Ia luminosity -- galaxy property slope.\n",
    "    \n",
    "    *** returned data axes ***\n",
    "     0: slope (min,most_probable,max)\n",
    "     1: population bin (early or late)\n",
    "     2: dist, broadened dist, mean of dist\n",
    "    \n",
    "    (e.g. results_list[1][0][2] returns \n",
    "          the mean of early population in HR space \n",
    "          predicted by most probable slope)\n",
    "    '''\n",
    "    slope_max = slope-slope_err\n",
    "    slope_min = slope+slope_err\n",
    "\n",
    "    results_list = []\n",
    "    for slope_val in tqdm([slope_min,slope,slope_max]):\n",
    "        y_early, y_early_b, mean_early = get_dist(df,\n",
    "                                                  type_range=early_range, attr=attr, ttype_attr=ttype_attr,\n",
    "                                                  gaussian_error=scatter_size, slope=slope_val, isCALIFA=isCALIFA)\n",
    "        y_late, y_late_b, mean_late    = get_dist(df,\n",
    "                                                  type_range=late_range, attr=attr, ttype_attr=ttype_attr,\n",
    "                                                  gaussian_error=scatter_size, slope=slope_val, isCALIFA=isCALIFA)\n",
    "        results_list.append([[y_early, y_early_b, mean_early],[y_late, y_late_b, mean_late]])\n",
    "    \n",
    "\n",
    "    \n",
    "    return results_list"
   ]
  },
  {
   "cell_type": "markdown",
   "metadata": {},
   "source": [
    "# (1) set up (slope, binning, etc.)"
   ]
  },
  {
   "cell_type": "code",
   "execution_count": 6,
   "metadata": {},
   "outputs": [],
   "source": [
    "slope = -0.051\n",
    "slope_err = 0.022"
   ]
  },
  {
   "cell_type": "code",
   "execution_count": 7,
   "metadata": {
    "code_folding": []
   },
   "outputs": [],
   "source": [
    "# available types and counts\n",
    "types = ['E','S0-','S0','S0+','S0a','Sa','Sab','Sb','Sbc','Sc','Scd','Sd','Sdm']\n",
    "T_center = [-5,-3,-2,-1,0,1,2,3,4,5,6,7,8]\n",
    "T_ranges = [1.5,0.5,0.5,0.5,0.5,0.5,0.5,0.5,0.5,0.5,0.5,0.5,0.5]\n",
    "CALIFA_ttypes = [-5,-2,-2,-2,1,1,1,3,4,5,5,7,7]\n",
    "N_types_A2 = [36,12,21,2,17,28,24,43,34,42,26,2,5]\n",
    "x_th = np.linspace(-10,30,1000)\n",
    "\n",
    "# galaxy binning\n",
    "ttype_early = ('E','S0+')\n",
    "ttype_late  = ('Sbc','Sdm')"
   ]
  },
  {
   "cell_type": "code",
   "execution_count": 8,
   "metadata": {
    "code_folding": []
   },
   "outputs": [],
   "source": [
    "# SN data binning\n",
    "early_type = ['E', 'E?', 'E/S0', 'S0', 'S0-', 'S0⚬', 'S0+']\n",
    "late_type  = ['Sbc','Sc', 'Scd','Sd','Sdm']\n",
    "\n",
    "# ************ do not need to touch below ***********\n",
    "# binning\n",
    "data2['morph_bin'] = np.nan\n",
    "data2.loc[data2['morphology'].isin(early_type),'morph_bin'] = 'early'\n",
    "data2.loc[data2['morphology'].isin(late_type),'morph_bin'] = 'late'\n",
    "bins = np.linspace(-1,1,50)\n",
    "early = data2['morph_bin']=='early'\n",
    "late = data2['morph_bin']=='late'\n",
    "\n",
    "# error sampling\n",
    "Nsample = 100000\n",
    "SN_early = np.array([np.random.normal(data2[early]['HR'][i],data2[early]['HR_err'][i],Nsample) for i in range(early.sum())]).flatten()\n",
    "SN_late = np.array([np.random.normal(data2[late]['HR'][i],data2[late]['HR_err'][i],Nsample) for i in range(late.sum())]).flatten()\n",
    "HR_err_mean = data2['HR_err'].mean()\n",
    "# ***************************************************"
   ]
  },
  {
   "cell_type": "markdown",
   "metadata": {},
   "source": [
    "# (2) do analysis"
   ]
  },
  {
   "cell_type": "code",
   "execution_count": 9,
   "metadata": {},
   "outputs": [
    {
     "data": {
      "text/plain": [
       "Index(['dl_ttype', 'ff_age_lw', 'ff_age_mw', 'ff_mass', 'gz_p_dominant',\n",
       "       'gz_p_nobulge', 'gz_p_obvious', 'gz_ttype', 'p3d_age_lw', 'p3d_age_mw',\n",
       "       'p3d_mass', 'plateifu', 'z'],\n",
       "      dtype='object')"
      ]
     },
     "execution_count": 9,
     "metadata": {},
     "output_type": "execute_result"
    }
   ],
   "source": [
    "df_MANGA.columns"
   ]
  },
  {
   "cell_type": "code",
   "execution_count": 10,
   "metadata": {},
   "outputs": [
    {
     "data": {
      "text/plain": [
       "Index(['AGE_granada', 'AGE_portsmouth', 'LOGMASS_granada',\n",
       "       'LOGMASS_portsmouth', 'Z_granada', 'Z_portsmouth', 'p_dominant',\n",
       "       'p_nobulge', 'p_obvious', 'gz_ttype'],\n",
       "      dtype='object')"
      ]
     },
     "execution_count": 10,
     "metadata": {},
     "output_type": "execute_result"
    }
   ],
   "source": [
    "df_SDSS.columns"
   ]
  },
  {
   "cell_type": "code",
   "execution_count": 11,
   "metadata": {},
   "outputs": [
    {
     "data": {
      "text/plain": [
       "Index(['mass', 'age_lw', 'age_mw', 'ttype'], dtype='object')"
      ]
     },
     "execution_count": 11,
     "metadata": {},
     "output_type": "execute_result"
    }
   ],
   "source": [
    "df_CALIFA.columns"
   ]
  },
  {
   "cell_type": "code",
   "execution_count": 12,
   "metadata": {},
   "outputs": [
    {
     "name": "stderr",
     "output_type": "stream",
     "text": [
      "100%|██████████| 3/3 [00:16<00:00,  5.48s/it]\n"
     ]
    }
   ],
   "source": [
    "K20_firefly = project_slope(df_MANGA,slope,slope_err,\n",
    "                            ttype_early,ttype_late,\n",
    "                            attr = 'ff_age_lw',\n",
    "                            ttype_attr = 'gz_ttype',\n",
    "                            scatter_size = HR_err_mean\n",
    "                           )"
   ]
  },
  {
   "cell_type": "code",
   "execution_count": 13,
   "metadata": {},
   "outputs": [
    {
     "name": "stderr",
     "output_type": "stream",
     "text": [
      "100%|██████████| 3/3 [00:13<00:00,  4.59s/it]\n"
     ]
    }
   ],
   "source": [
    "K20_pipe3d = project_slope(df_MANGA,slope,slope_err,\n",
    "                            ttype_early,ttype_late,\n",
    "                            attr = 'p3d_age_lw',\n",
    "                            ttype_attr = 'gz_ttype',\n",
    "                            scatter_size = HR_err_mean\n",
    "                           )"
   ]
  },
  {
   "cell_type": "code",
   "execution_count": 14,
   "metadata": {},
   "outputs": [
    {
     "name": "stderr",
     "output_type": "stream",
     "text": [
      "100%|██████████| 3/3 [00:14<00:00,  4.75s/it]\n"
     ]
    }
   ],
   "source": [
    "K20_Starlight = project_slope(df_CALIFA,slope,slope_err,\n",
    "                            ttype_early,ttype_late,\n",
    "                            attr = 'age_lw',\n",
    "                            ttype_attr = 'ttype',\n",
    "                            scatter_size = HR_err_mean,\n",
    "                            isCALIFA = True\n",
    "                           )"
   ]
  },
  {
   "cell_type": "code",
   "execution_count": 15,
   "metadata": {},
   "outputs": [],
   "source": [
    "with open('data/K20.npy', 'wb') as f:\n",
    "    np.save(f, np.asarray(K20_firefly),allow_pickle=True)\n",
    "    np.save(f, np.asarray(K20_pipe3d),allow_pickle=True)\n",
    "    np.save(f, np.asarray(K20_Starlight),allow_pickle=True)\n",
    "    np.save(f, SN_early,allow_pickle=True)\n",
    "    np.save(f, SN_late,allow_pickle=True)"
   ]
  },
  {
   "cell_type": "markdown",
   "metadata": {},
   "source": [
    "# (4) plot results"
   ]
  },
  {
   "cell_type": "code",
   "execution_count": 16,
   "metadata": {
    "code_folding": [
     0
    ]
   },
   "outputs": [],
   "source": [
    "def plot_results(results,x_th,slope,color='yellowgreen',plot_early=True,plot_late=False,ax=None,label=None,\n",
    "                plot_axvline=False,plot_errorbar=True,yscale=1,ls=':',errorbar_yloc=0.3):\n",
    "    # data prep\n",
    "    HR = x_th*slope\n",
    "    offset = results[1][1][2]\n",
    "    mean_min = results[2][0][2] - results[2][1][2]\n",
    "    mean_mpb = results[1][0][2] - results[1][1][2]\n",
    "    mean_max = results[0][0][2] - results[0][1][2]\n",
    "    early_dist_b = results[1][0][1]\n",
    "    late_dist_b = results[1][1][1]\n",
    "    \n",
    "    if ax==None:\n",
    "        ax = plt.gca()\n",
    "    if plot_early:\n",
    "        ax.plot(HR-offset,early_dist_b*yscale,c=color,lw=3,alpha=0.8,label=label)\n",
    "    if plot_late:\n",
    "        ax.plot(HR-offset,late_dist_b*yscale,c='lightblue',lw=3,alpha=0.8,label=label)\n",
    "\n",
    "    if plot_axvline:\n",
    "        ax.axvline(mean_mpb,linestyle=ls,color=color,alpha=1,lw=3,zorder=10)\n",
    "        ax.axvspan(mean_min,mean_max,color=color,alpha=0.05)\n",
    "    if plot_errorbar:\n",
    "        err_min = mean_min-mean_mpb\n",
    "        err_max = mean_mpb-mean_max\n",
    "        ax.errorbar(mean_mpb,errorbar_yloc,xerr=[[err_min],[err_max]], fmt='o', \n",
    "                    color=color, ecolor=color, ms=7,lw=3,capsize=7)"
   ]
  },
  {
   "cell_type": "code",
   "execution_count": 17,
   "metadata": {
    "code_folding": []
   },
   "outputs": [
    {
     "data": {
      "text/plain": [
       "([], <a list of 0 Text major ticklabel objects>)"
      ]
     },
     "execution_count": 17,
     "metadata": {},
     "output_type": "execute_result"
    },
    {
     "data": {
      "image/png": "[encoded data removed]",
      "text/plain": [
       "<Figure size 864x504 with 1 Axes>"
      ]
     },
     "metadata": {},
     "output_type": "display_data"
    }
   ],
   "source": [
    "# plot - with the same binning as other tests\n",
    "fig, ax = plt.subplots(1,1,figsize=(12,7))\n",
    "\n",
    "y1,_,_ = plt.hist(SN_early-SN_late.mean(),color='orange',bins=bins,density=True,alpha=0.6,label='A2 early-type',histtype=u'step',lw=4)\n",
    "y2,_,_ = plt.hist(SN_late-SN_late.mean(),color='blue',bins=bins,density=True,alpha=0.4,label='A2 late-type',histtype=u'step',lw=4)\n",
    "\n",
    "plot_results(K20_firefly,x_th,slope,yscale=y1.max(),color='pink',label='MaNGA + Firefly',ls='dotted',errorbar_yloc=0.9)\n",
    "plot_results(K20_pipe3d,x_th,slope,yscale=y1.max(),color='orangered',label='MaNGA + Pipe3D',ls='dashed',errorbar_yloc=0.6)\n",
    "plot_results(K20_Starlight,x_th,slope,yscale=y1.max(),color='yellowgreen',label='CALIFA + STARLIGHT',ls='dashdot',errorbar_yloc=0.3)\n",
    "\n",
    "plt.axvline(SN_early.mean()-SN_late.mean(),linestyle='-',c='k',lw=2)\n",
    "plt.axvline(0,linestyle='--',c='k',lw=2,alpha=0.3)\n",
    "\n",
    "plt.xlabel(r'HR [mag], projected from Age$_L/$Gyr with K20 slope')\n",
    "plt.legend(ncol=1)\n",
    "plt.xlim(-0.5,0.5)\n",
    "plt.ylim(0,2.3)\n",
    "plt.yticks([])"
   ]
  },
  {
   "cell_type": "code",
   "execution_count": 18,
   "metadata": {},
   "outputs": [
    {
     "data": {
      "text/plain": [
       "-0.06774860574547154"
      ]
     },
     "execution_count": 18,
     "metadata": {},
     "output_type": "execute_result"
    }
   ],
   "source": [
    "SN_early.mean()-SN_late.mean()"
   ]
  },
  {
   "cell_type": "code",
   "execution_count": null,
   "metadata": {},
   "outputs": [],
   "source": []
  }
 ],
 "metadata": {
  "kernelspec": {
   "display_name": "Python 3",
   "language": "python",
   "name": "python3"
  },
  "language_info": {
   "codemirror_mode": {
    "name": "ipython",
    "version": 3
   },
   "file_extension": ".py",
   "mimetype": "text/x-python",
   "name": "python",
   "nbconvert_exporter": "python",
   "pygments_lexer": "ipython3",
   "version": "3.7.7"
  },
  "varInspector": {
   "cols": {
    "lenName": 16,
    "lenType": 16,
    "lenVar": 40
   },
   "kernels_config": {
    "python": {
     "delete_cmd_postfix": "",
     "delete_cmd_prefix": "del ",
     "library": "var_list.py",
     "varRefreshCmd": "print(var_dic_list())"
    },
    "r": {
     "delete_cmd_postfix": ") ",
     "delete_cmd_prefix": "rm(",
     "library": "var_list.r",
     "varRefreshCmd": "cat(var_dic_list()) "
    }
   },
   "types_to_exclude": [
    "module",
    "function",
    "builtin_function_or_method",
    "instance",
    "_Feature"
   ],
   "window_display": false
  }
 },
 "nbformat": 4,
 "nbformat_minor": 4
}
